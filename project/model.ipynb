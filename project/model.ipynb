{
 "cells": [
  {
   "cell_type": "code",
   "execution_count": 369,
   "metadata": {},
   "outputs": [],
   "source": [
    "import sys\n",
    "import os\n",
    "import pandas as pd\n",
    "import csv\n",
    "import requests\n",
    "import random as rd\n",
    "import matplotlib.pyplot as plt\n",
    "import collections; collections.Callable = collections.abc.Callable\n",
    "from scipy.stats import poisson\n",
    "from bs4 import BeautifulSoup"
   ]
  },
  {
   "cell_type": "code",
   "execution_count": 370,
   "metadata": {},
   "outputs": [],
   "source": [
    "#==============================================================================\n",
    "# Gets FIFA country code and country name from Wikipedia\n",
    "#==============================================================================\n",
    "def get_country_code():\n",
    "    content = requests.get('https://en.wikipedia.org/wiki/List_of_FIFA_country_codes').text\n",
    "    parse = BeautifulSoup(content, 'lxml')\n",
    "    tables = parse.find_all('table', class_='wikitable')[:4]\n",
    "    country_code = []\n",
    "    country_name = []\n",
    "    for table in tables:\n",
    "        for row in table.find_all('tr'):\n",
    "            if row.find('td') is not None:\n",
    "                country_name.append(row.find_all('td')[0].get_text().strip())\n",
    "                country_code.append(row.find_all('td')[1].get_text().strip())\n",
    "    country_code_dict = dict(zip(country_name, country_code))\n",
    "    return country_code_dict\n",
    "\n",
    "country_code_dict = get_country_code()"
   ]
  },
  {
   "cell_type": "code",
   "execution_count": 371,
   "metadata": {},
   "outputs": [],
   "source": [
    "#==============================================================================\n",
    "# Gets FIFA 2022 World Cup Fixtures from Wikipedia\n",
    "#==============================================================================\n",
    "def get_cup_fixtures(year):\n",
    "    content = requests.get(f'https://en.wikipedia.org/wiki/{year}_FIFA_World_Cup').text\n",
    "    parse = BeautifulSoup(content, 'lxml')\n",
    "    fixtures = parse.find_all('div', class_='footballbox')\n",
    "\n",
    "    home = []\n",
    "    away = []\n",
    "\n",
    "    for match in fixtures:\n",
    "        home.append(match.find('th', class_='fhome').get_text())\n",
    "        away.append(match.find('th', class_='faway').get_text())\n",
    "\n",
    "    match = {'home': home, 'away': away}\n",
    "    fixes = pd.DataFrame(match)\n",
    "    fixes['year'] = year\n",
    "    return fixes\n",
    "  \n",
    "fixtures_frame = get_cup_fixtures(2022)\n",
    "fixtures_frame.to_csv('./fixtures/fifa_worldcup_fixtures.csv', mode='w', index=False)"
   ]
  },
  {
   "cell_type": "code",
   "execution_count": 372,
   "metadata": {},
   "outputs": [],
   "source": [
    "#==============================================================================\n",
    "# Cleans up match data, keeping only teams and goals scored based on where\n",
    "# to split csv file\n",
    "# Adds missing matches if necessary to world cup file\n",
    "#==============================================================================\n",
    "def clean_matches(file, splits: list()):\n",
    "    clean = []\n",
    "    with open(file, encoding='utf-8') as f:\n",
    "        reader = csv.reader(f)\n",
    "        for line in reader:\n",
    "            try:\n",
    "                date = line[splits[0]].split('-')[0]\n",
    "                home_team = line[splits[1]]\n",
    "                away_team = line[splits[2]]\n",
    "                home_score = line[splits[3]]\n",
    "                away_score = line[splits[4]]\n",
    "                home_code = country_code_dict[home_team]\n",
    "                away_code = country_code_dict[away_team]\n",
    "                if int(date) < 1998: continue\n",
    "                clean.append([date, home_team, home_score, away_team, away_score, home_code, away_code])\n",
    "            except: pass\n",
    "    \n",
    "    with open(\"./clean/\"+\"clean_\"+file.split('/')[-1], 'w', newline='') as f:\n",
    "        writer = csv.writer(f)\n",
    "        head = ['Date', 'Home_Team', 'Home Team Goals', 'Away_Team', 'Away Team Goals', 'Home Team Initials', 'Away Team Initials']\n",
    "        writer.writerow(head)\n",
    "        writer.writerows(clean)\n",
    "\n",
    "def add_matches(fn):\n",
    "    f2018 = open('./data/WorldCupMatches2018.csv', 'r')\n",
    "    f98 = open('./clean/clean_{}'.format(fn), 'a', newline='')\n",
    "\n",
    "    f2018reader = csv.reader(f2018)\n",
    "    f98writer = csv.writer(f98)\n",
    "    next(f2018reader)\n",
    "    for row in f2018reader:\n",
    "        home = row[0] \n",
    "        away = row[1]\n",
    "        date = row[2]\n",
    "        home_score = row[3]\n",
    "        away_score = row[4]\n",
    "        home_code = country_code_dict[home]\n",
    "        away_code = country_code_dict[away]\n",
    "        f98writer.writerow([date, home, home_score, away, away_score, home_code, away_code])\n",
    "\n",
    "    f2018.close()\n",
    "    f98.close()\n",
    "    "
   ]
  },
  {
   "cell_type": "code",
   "execution_count": 373,
   "metadata": {},
   "outputs": [],
   "source": [
    "#==============================================================================\n",
    "# Uses huge data set with every single international match since 1993\n",
    "#==============================================================================\n",
    "clean_matches('./data/EveryInternationalMatch.csv', [0, 1, 2, 9, 10])"
   ]
  },
  {
   "cell_type": "code",
   "execution_count": 374,
   "metadata": {},
   "outputs": [],
   "source": [
    "#==============================================================================\n",
    "# Using a smaller dataset with only world cup matches since 1930\n",
    "#==============================================================================\n",
    "#clean_matches('./data/WorldCupMatches.csv', [0, 5, 8, 6, 7, -2, -1])\n",
    "clean_matches('./data/WorldCupMatches98.csv', [0, 5, 8, 6, 7, -2, -1])\n",
    "add_matches('WorldCupMatches98.csv')\n"
   ]
  },
  {
   "cell_type": "code",
   "execution_count": 375,
   "metadata": {},
   "outputs": [],
   "source": [
    "#==============================================================================\n",
    "# using smaller dataset to calculate goal ratios for poisson distribution\n",
    "#==============================================================================\n",
    "\n",
    "def get_goal_ratio(file, enc='utf-8'):\n",
    "    match_data = pd.read_csv(file, encoding=enc)\n",
    "    home_games = match_data[['Home Team Initials', 'Home Team Goals', 'Away Team Goals']]\n",
    "    away_games = match_data[['Away Team Initials', 'Home Team Goals', 'Away Team Goals']]\n",
    "    home_games = home_games.rename(columns={'Home Team Initials':'Team Initials', 'Home Team Goals': 'GoalsScored', 'Away Team Goals': 'GoalsConceded'})\n",
    "    away_games = away_games.rename(columns={'Away Team Initials':'Team Initials', 'Home Team Goals': 'GoalsConceded', 'Away Team Goals': 'GoalsScored'})\n",
    "    all_games = pd.concat([home_games, away_games], ignore_index=True).groupby(['Team Initials']).mean()\n",
    "    return all_games\n",
    "\n",
    "def combine_ratios():\n",
    "    only_world_cup_goal_ratio = get_goal_ratio('./clean/clean_WorldCupMatches98.csv')\n",
    "    international_goal_ratio = get_goal_ratio('./clean/clean_EveryInternationalMatch.csv', enc='ISO-8859-1')\n",
    "\n",
    "    new_goal_ratio_dataframe = pd.DataFrame(columns=['Team Initials', 'GoalsScored', 'GoalsConceded'])\n",
    "    new_goal_ratio_dataframe.set_index('Team Initials')\n",
    "\n",
    "    for team_initial in international_goal_ratio.index:\n",
    "\n",
    "        tgs = (international_goal_ratio.loc[team_initial, 'GoalsScored'])\n",
    "        tgc = (international_goal_ratio.loc[team_initial, 'GoalsConceded'])\n",
    "        owcgc = owcgs = 0\n",
    "        try: \n",
    "            owcgs = (only_world_cup_goal_ratio.loc[team_initial, 'GoalsScored'])\n",
    "            owcgc =(only_world_cup_goal_ratio.loc[team_initial, 'GoalsConceded'])\n",
    "        except: \n",
    "            new_goal_ratio_dataframe = pd.concat([new_goal_ratio_dataframe, pd.DataFrame([[team_initial, tgs, tgc]], columns=['Team Initials', 'GoalsScored', 'GoalsConceded'])], ignore_index=True)\n",
    "            continue\n",
    "        \n",
    "        new_goals_scored_ratio = (tgs * 1.9) + (owcgs * 1.1)\n",
    "        new_goals_conceded_ratio = (tgc * .8) + (owcgc * .2)\n",
    "\n",
    "        new_goal_ratio_dataframe = pd.concat([new_goal_ratio_dataframe, pd.DataFrame([[team_initial, new_goals_scored_ratio, new_goals_conceded_ratio]], columns=['Team Initials', 'GoalsScored', 'GoalsConceded'])], ignore_index=True)\n",
    "\n",
    "        \n",
    "    new_goal_ratio_dataframe = new_goal_ratio_dataframe.set_index('Team Initials', drop=True)\n",
    "    return new_goal_ratio_dataframe\n",
    "\n",
    "team_goal_ratio = combine_ratios()\n",
    "#print spains goal ratio\n"
   ]
  },
  {
   "cell_type": "code",
   "execution_count": 376,
   "metadata": {},
   "outputs": [
    {
     "name": "stderr",
     "output_type": "stream",
     "text": [
      "C:\\Users\\salad\\AppData\\Local\\Temp\\ipykernel_9564\\540345561.py:3: SettingWithCopyWarning: \n",
      "A value is trying to be set on a copy of a slice from a DataFrame.\n",
      "Try using .loc[row_indexer,col_indexer] = value instead\n",
      "\n",
      "See the caveats in the documentation: https://pandas.pydata.org/pandas-docs/stable/user_guide/indexing.html#returning-a-view-versus-a-copy\n",
      "  home_games['Total Goals'] = home_games['Home Team Goals'] + home_games['Away Team Goals']\n"
     ]
    },
    {
     "data": {
      "image/png": "[encoded data removed]",
      "text/plain": [
       "<Figure size 720x432 with 1 Axes>"
      ]
     },
     "metadata": {
      "needs_background": "light"
     },
     "output_type": "display_data"
    }
   ],
   "source": [
    "goal_data = pd.read_csv('./clean/clean_EveryInternationalMatch.csv', encoding='ISO-8859-1')\n",
    "home_games = goal_data[['Home_Team', 'Home Team Goals', 'Away Team Goals']]\n",
    "home_games['Total Goals'] = home_games['Home Team Goals'] + home_games['Away Team Goals']\n",
    "home_games = home_games[['Total Goals']]\n",
    "home_games.hist(bins = range(11), align = 'left', color = '#4c0920', zorder = 2, rwidth = 0.9, figsize = (10, 6))\n",
    "\n",
    "plt.title('Histogram of Total Goals Scored in International Matches')\n",
    "plt.xlabel('Total Goals Scored in a match')\n",
    "plt.ylabel('Frequency')\n",
    "plt.xticks(range(11))\n",
    "plt.xlim(-0.5, 10.5)\n",
    "plt.show()"
   ]
  },
  {
   "cell_type": "code",
   "execution_count": 1,
   "metadata": {},
   "outputs": [
    {
     "data": {
      "text/plain": [
       "\" print(predict_points('BRA', 'PAN')) \""
      ]
     },
     "execution_count": 1,
     "metadata": {},
     "output_type": "execute_result"
    }
   ],
   "source": [
    "#==============================================================================\n",
    "# poisson distribution\n",
    "# source 1: https://fse.studenttheses.ub.rug.nl/21917/1/bMATH_2020_BruinsmaR.pdf\n",
    "# source 2: https://towardsdatascience.com/predicting-the-fifa-world-cup-2022-with-a-simple-model-using-python-6b34bdd4f2a5\n",
    "# source 3: https://www.pinnacle.com/en/betting-articles/Soccer/inflating-or-deflating-the-chance-of-a-draw-in-soccer/CGE2JP2SDKV3A9R5\n",
    "#==============================================================================\n",
    "\n",
    "def predict_points(home, away):\n",
    "    if home in team_goal_ratio.index and away in team_goal_ratio.index:\n",
    "        \"\"\" print(home, team_goal_ratio.at[home,'GoalsScored'], team_goal_ratio.at[home,'GoalsConceded'])\n",
    "        print(away, team_goal_ratio.at[away,'GoalsScored'], team_goal_ratio.at[away,'GoalsConceded']) \"\"\"\n",
    "        lamb_home = team_goal_ratio.at[home,'GoalsScored'] * team_goal_ratio.at[away,'GoalsConceded']\n",
    "        lamb_away = team_goal_ratio.at[away,'GoalsScored'] * team_goal_ratio.at[home,'GoalsConceded']\n",
    "        \"\"\" print('home', lamb_home)\n",
    "        print('away', lamb_away) \"\"\"\n",
    "        prob_home, prob_away, prob_draw = 0, 0, 0\n",
    "        for x in range(0,7):\n",
    "            for y in range(0, 7):\n",
    "                \"\"\" print(x,y)\n",
    "                print('home', poisson.pmf(x, lamb_home))\n",
    "                print('away', poisson.pmf(y, lamb_away)) \"\"\"\n",
    "                #save plot of poisson distribution to image file\n",
    "                home_plot = poisson.pmf(x, lamb_home)\n",
    "                away_plot = poisson.pmf(y, lamb_away)\n",
    "                plt.plot(x, home_plot, 'ro')\n",
    "                plt.plot(y, away_plot, 'bo')\n",
    "                \"\"\" print('-----') \"\"\"\n",
    "                p = poisson.pmf(x, lamb_home) * poisson.pmf(y, lamb_away)\n",
    "                if x == y:\n",
    "                    #upset calculation based on chance and how often the team scores more than the other\n",
    "                    #shifts odds ever so slightly\n",
    "                    home_goals_scored = team_goal_ratio.at[home,'GoalsScored']\n",
    "                    away_goals_scored = team_goal_ratio.at[away,'GoalsScored']\n",
    "                    max_of_two, min_of_two = max(home_goals_scored, away_goals_scored), min(home_goals_scored, away_goals_scored)\n",
    "                    is_home_min = home_goals_scored == min_of_two\n",
    "                    random_draw = rd.uniform(0, max_of_two)\n",
    "                    if is_home_min:\n",
    "                        if random_draw < min_of_two:\n",
    "                            prob_home += p / 2 * rd.uniform(.5, 1.5)\n",
    "                        else: \n",
    "                            prob_away += p / 2 * rd.uniform(.5, 1.5)\n",
    "                    else:\n",
    "                        if random_draw < min_of_two:\n",
    "                            prob_away += p / 2 * rd.uniform(.5, 1.5)\n",
    "                        else:\n",
    "                            prob_home += p / 2 * rd.uniform(.5, 1.5)\n",
    "                    prob_draw += p\n",
    "                elif x > y:\n",
    "                    prob_home += p\n",
    "                else:\n",
    "                   prob_away += p\n",
    "        \n",
    "        points_home = 3 * prob_home + prob_draw\n",
    "        points_away = 3 * prob_away + prob_draw\n",
    "        return (points_home, points_away)\n",
    "    else:\n",
    "        return (0, 0)"
   ]
  },
  {
   "cell_type": "code",
   "execution_count": 378,
   "metadata": {},
   "outputs": [
    {
     "name": "stdout",
     "output_type": "stream",
     "text": [
      "              home            away  year\n",
      "0           Qatar          Ecuador  2022\n",
      "1         Senegal      Netherlands  2022\n",
      "2           Qatar          Senegal  2022\n",
      "3     Netherlands          Ecuador  2022\n",
      "4         Ecuador          Senegal  2022\n",
      "5     Netherlands            Qatar  2022\n",
      "6         England             Iran  2022\n",
      "7   United States            Wales  2022\n",
      "8           Wales             Iran  2022\n",
      "9         England    United States  2022\n",
      "10          Wales          England  2022\n",
      "11           Iran    United States  2022\n",
      "12      Argentina     Saudi Arabia  2022\n",
      "13         Mexico           Poland  2022\n",
      "14         Poland     Saudi Arabia  2022\n",
      "15      Argentina           Mexico  2022\n",
      "16         Poland        Argentina  2022\n",
      "17   Saudi Arabia           Mexico  2022\n",
      "18        Denmark          Tunisia  2022\n",
      "19         France        Australia  2022\n",
      "20        Tunisia        Australia  2022\n",
      "21         France          Denmark  2022\n",
      "22      Australia          Denmark  2022\n",
      "23        Tunisia           France  2022\n",
      "24        Germany            Japan  2022\n",
      "25          Spain       Costa Rica  2022\n",
      "26          Japan       Costa Rica  2022\n",
      "27          Spain          Germany  2022\n",
      "28          Japan            Spain  2022\n",
      "29     Costa Rica          Germany  2022\n",
      "30        Morocco          Croatia  2022\n",
      "31        Belgium           Canada  2022\n",
      "32        Belgium          Morocco  2022\n",
      "33        Croatia           Canada  2022\n",
      "34        Croatia          Belgium  2022\n",
      "35         Canada          Morocco  2022\n",
      "36    Switzerland         Cameroon  2022\n",
      "37         Brazil           Serbia  2022\n",
      "38       Cameroon           Serbia  2022\n",
      "39         Brazil      Switzerland  2022\n",
      "40         Serbia      Switzerland  2022\n",
      "41       Cameroon           Brazil  2022\n",
      "42        Uruguay      South Korea  2022\n",
      "43       Portugal            Ghana  2022\n",
      "44    South Korea            Ghana  2022\n",
      "45       Portugal          Uruguay  2022\n",
      "46          Ghana          Uruguay  2022\n",
      "47    South Korea         Portugal  2022\n"
     ]
    }
   ],
   "source": [
    "fixtures = pd.read_csv('./fixtures/fifa_worldcup_fixtures.csv')\n",
    "fixtures = fixtures.iloc[0:]\n",
    "fixture_group_stage = fixtures[:48].copy()\n",
    "print(fixture_group_stage)"
   ]
  },
  {
   "cell_type": "code",
   "execution_count": 379,
   "metadata": {},
   "outputs": [
    {
     "name": "stdout",
     "output_type": "stream",
     "text": [
      "              home            away  year  home_point  away_point\n",
      "0           Qatar          Ecuador  2022    0.710999    2.101000\n",
      "1         Senegal      Netherlands  2022    0.733412    1.415247\n",
      "2           Qatar          Senegal  2022    0.316476    2.254923\n",
      "3     Netherlands          Ecuador  2022    1.102208    0.305035\n",
      "4         Ecuador          Senegal  2022    0.745981    1.351646\n",
      "5     Netherlands            Qatar  2022    1.867685    0.111622\n",
      "6         England             Iran  2022    0.000000    0.000000\n",
      "7   United States            Wales  2022    0.000000    0.000000\n",
      "8           Wales             Iran  2022    0.000000    0.000000\n",
      "9         England    United States  2022    0.000000    0.000000\n",
      "10          Wales          England  2022    0.057985    1.887878\n",
      "11           Iran    United States  2022    0.000000    0.000000\n",
      "12      Argentina     Saudi Arabia  2022    1.092026    0.411841\n",
      "13         Mexico           Poland  2022    1.189100    0.752603\n",
      "14         Poland     Saudi Arabia  2022    0.964989    0.929349\n",
      "15      Argentina           Mexico  2022    1.122894    0.938080\n",
      "16         Poland        Argentina  2022    0.574147    1.250284\n",
      "17   Saudi Arabia           Mexico  2022    0.582803    1.052674\n",
      "18        Denmark          Tunisia  2022    1.261992    0.835897\n",
      "19         France        Australia  2022    1.140855    0.504655\n",
      "20        Tunisia        Australia  2022    0.671681    0.905964\n",
      "21         France          Denmark  2022    1.383262    0.656447\n",
      "22      Australia          Denmark  2022    0.714452    0.800988\n",
      "23        Tunisia           France  2022    0.460750    1.467798\n",
      "24        Germany            Japan  2022    0.758727    0.390349\n",
      "25          Spain       Costa Rica  2022    0.830074    0.203946\n",
      "26          Japan       Costa Rica  2022    1.191542    0.666786\n",
      "27          Spain          Germany  2022    0.755152    0.495047\n",
      "28          Japan            Spain  2022    0.447327    1.054324\n",
      "29     Costa Rica          Germany  2022    0.150682    0.597521\n",
      "30        Morocco          Croatia  2022    1.135422    1.100066\n",
      "31        Belgium           Canada  2022    1.640260    0.097377\n",
      "32        Belgium          Morocco  2022    0.956608    1.034162\n",
      "33        Croatia           Canada  2022    1.893969    0.155685\n",
      "34        Croatia          Belgium  2022    0.847296    0.732577\n",
      "35         Canada          Morocco  2022    0.206971    2.159364\n",
      "36    Switzerland         Cameroon  2022    1.447824    1.006111\n",
      "37         Brazil           Serbia  2022    1.242361    0.284773\n",
      "38       Cameroon           Serbia  2022    1.241162    1.305452\n",
      "39         Brazil      Switzerland  2022    1.300769    0.415367\n",
      "40         Serbia      Switzerland  2022    1.010193    1.315811\n",
      "41       Cameroon           Brazil  2022    0.288918    1.309769\n",
      "42        Uruguay      South Korea  2022    0.000000    0.000000\n",
      "43       Portugal            Ghana  2022    1.453320    0.671528\n",
      "44    South Korea            Ghana  2022    0.000000    0.000000\n",
      "45       Portugal          Uruguay  2022    1.143445    0.575490\n",
      "46          Ghana          Uruguay  2022    1.131180    1.176364\n",
      "47    South Korea         Portugal  2022    0.000000    0.000000\n"
     ]
    },
    {
     "data": {
      "image/png": "[encoded data removed]",
      "text/plain": [
       "<Figure size 432x288 with 1 Axes>"
      ]
     },
     "metadata": {
      "needs_background": "light"
     },
     "output_type": "display_data"
    }
   ],
   "source": [
    "#==============================================================================\n",
    "# group stage, 48 games, counted by 4 lines in the fixture_group_48\n",
    "# calculates points for each team in the group stage\n",
    "#==============================================================================\n",
    "for index, row in fixture_group_stage.iterrows():\n",
    "    home = row['home']\n",
    "    away = row['away']\n",
    "    home_code = country_code_dict[home.strip()]\n",
    "    away_code = country_code_dict[away.strip()]\n",
    "    home_point, away_point = predict_points(home_code, away_code)\n",
    "    fixture_group_stage.at[index, 'home_point'] = home_point\n",
    "    fixture_group_stage.at[index, 'away_point'] = away_point\n",
    "print(fixture_group_stage)\n",
    "fixture_group_stage.to_csv('./fixtures/fifa_worldcup_fixture_group_48.csv', index=False)\n"
   ]
  },
  {
   "cell_type": "code",
   "execution_count": 380,
   "metadata": {},
   "outputs": [],
   "source": [
    "#==============================================================================\n",
    "# gets the round of 16 teams from the group stage\n",
    "#==============================================================================\n",
    "\n",
    "fixture_group_stage = pd.read_csv('./fixtures/fifa_worldcup_fixture_group_48.csv')\n",
    "fixture_group_stage_48 = fixture_group_stage[0:]\n",
    "\n",
    "f = open('./fixtures/fifa_worldcup_fixture_group_48_top2.csv', 'w')\n",
    "header = pd.DataFrame(columns=['home', 'home_point'])\n",
    "header.to_csv('./fixtures/fifa_worldcup_fixture_group_48_top2.csv', index=False)\n",
    "for six in range(0, len(fixture_group_stage_48), 6):\n",
    "    group = fixture_group_stage_48[six:six+6]\n",
    "    for index, row in group.iterrows():\n",
    "        group.at[index, 'home'] = row['home'].strip()\n",
    "        group.at[index, 'away'] = row['away'].strip()\n",
    "    \n",
    "    home_games = group.groupby(['home'])['home_point'].sum()\n",
    "    away_games = group.groupby(['away'])['away_point'].sum()\n",
    "    group = home_games.add(away_games, fill_value=0)\n",
    "    group = group.sort_values(ascending=False)\n",
    "    group = group[:2]\n",
    "    group.to_csv('./fixtures/fifa_worldcup_fixture_group_48_top2.csv', mode='a', header=False)\n",
    "\n",
    "f.close()"
   ]
  },
  {
   "cell_type": "code",
   "execution_count": 381,
   "metadata": {},
   "outputs": [],
   "source": [
    "matches = [[\"a1\", \"b2\"], [\"c1\", \"d2\"], [\"e1\", \"f2\"], [\"g1\", \"h2\"], [\"b1\", \"a2\"], [\"d1\", \"c2\"], [\"f1\", \"e2\"], [\"h1\", \"g2\"]]\n",
    "match_aligment = {}"
   ]
  },
  {
   "cell_type": "code",
   "execution_count": 382,
   "metadata": {},
   "outputs": [],
   "source": [
    "#==============================================================================\n",
    "# create knockout stage matches based on group position - round of 16\n",
    "#==============================================================================\n",
    "\n",
    "fixture_group_stage_top2 = pd.read_csv('./fixtures/fifa_worldcup_fixture_group_48_top2.csv')\n",
    "alphabet = ['a', 'b', 'c', 'd', 'e', 'f', 'g', 'h']\n",
    "current_number = 1\n",
    "current_letter = 0\n",
    "for i in range(0, len(fixture_group_stage_top2)):\n",
    "    country = fixture_group_stage_top2.iloc[i, 0]\n",
    "    match_aligment[alphabet[current_letter]+str(current_number)] = country\n",
    "    if current_number == 1: current_number = 2\n",
    "    else: \n",
    "        current_number = 1\n",
    "        current_letter += 1"
   ]
  },
  {
   "cell_type": "code",
   "execution_count": 383,
   "metadata": {},
   "outputs": [],
   "source": [
    "#==============================================================================\n",
    "# SIDE EFFECT METHOD: adds winner to specified list to implement reusability\n",
    "#==============================================================================\n",
    "def winner(stored: list(), one, two):\n",
    "    country_one_code = country_code_dict[one.strip()]\n",
    "    country_two_code = country_code_dict[two.strip()]\n",
    "    country_one_points, country_two_points = predict_points(country_one_code, country_two_code)\n",
    "    if country_one_points > country_two_points: stored.append(one)\n",
    "    else: stored.append(two)"
   ]
  },
  {
   "cell_type": "code",
   "execution_count": 384,
   "metadata": {},
   "outputs": [
    {
     "name": "stdout",
     "output_type": "stream",
     "text": [
      "['Netherlands', 'Argentina', 'Spain', 'Brazil', 'England', 'France', 'Morocco', 'Portugal']\n"
     ]
    },
    {
     "data": {
      "image/png": "[encoded data removed]",
      "text/plain": [
       "<Figure size 432x288 with 1 Axes>"
      ]
     },
     "metadata": {
      "needs_background": "light"
     },
     "output_type": "display_data"
    }
   ],
   "source": [
    "#==============================================================================\n",
    "# calculate knockout stage winners, -> 8 winners\n",
    "#==============================================================================\n",
    "\n",
    "winners = []\n",
    "for match in matches:\n",
    "    country_one = match_aligment[match[0]]\n",
    "    country_two = match_aligment[match[1]]\n",
    "    winner(winners, country_one, country_two)\n",
    "print(winners)\n",
    "\n",
    "file = open('./fixtures/fifa_worldcup_fixture_knockout.csv', 'w')\n",
    "writer = csv.writer(file)\n",
    "writer.writerow(winners)\n",
    "file.close()"
   ]
  },
  {
   "cell_type": "code",
   "execution_count": 385,
   "metadata": {},
   "outputs": [
    {
     "name": "stdout",
     "output_type": "stream",
     "text": [
      "['Netherlands', 'Brazil', 'France', 'Portugal']\n"
     ]
    },
    {
     "data": {
      "image/png": "[encoded data removed]",
      "text/plain": [
       "<Figure size 432x288 with 1 Axes>"
      ]
     },
     "metadata": {
      "needs_background": "light"
     },
     "output_type": "display_data"
    }
   ],
   "source": [
    "#==============================================================================\n",
    "# calculate semi final winners, -> 4 winners\n",
    "#==============================================================================\n",
    "\n",
    "knockout_fixtures = pd.read_csv('./fixtures/fifa_worldcup_fixture_knockout.csv')\n",
    "\n",
    "knockout_matches = [[1,2], [3,4], [5,6], [7,8]]\n",
    "knockout_winners = []\n",
    "\n",
    "for m in knockout_matches:\n",
    "    country_one = knockout_fixtures.columns[m[0]-1]\n",
    "    country_two = knockout_fixtures.columns[m[1]-1]\n",
    "    winner(knockout_winners, country_one, country_two)\n",
    "print(knockout_winners)"
   ]
  },
  {
   "cell_type": "code",
   "execution_count": 386,
   "metadata": {},
   "outputs": [
    {
     "name": "stdout",
     "output_type": "stream",
     "text": [
      "['Brazil', 'France']\n"
     ]
    },
    {
     "data": {
      "image/png": "[encoded data removed]",
      "text/plain": [
       "<Figure size 432x288 with 1 Axes>"
      ]
     },
     "metadata": {
      "needs_background": "light"
     },
     "output_type": "display_data"
    }
   ],
   "source": [
    "#==============================================================================\n",
    "# calculate semi final winners, -> 2 winners\n",
    "#==============================================================================\n",
    "\n",
    "semi_final_matches = [[1,2], [3,4]]\n",
    "semi_final_winners = []\n",
    "for m in semi_final_matches:\n",
    "    country_one = knockout_winners[m[0]-1]\n",
    "    country_two = knockout_winners[m[1]-1]\n",
    "    winner(semi_final_winners, country_one, country_two)\n",
    "print(semi_final_winners)"
   ]
  },
  {
   "cell_type": "code",
   "execution_count": 387,
   "metadata": {},
   "outputs": [
    {
     "name": "stdout",
     "output_type": "stream",
     "text": [
      "France wins the world cup!\n"
     ]
    },
    {
     "data": {
      "image/png": "[encoded data removed]",
      "text/plain": [
       "<Figure size 432x288 with 1 Axes>"
      ]
     },
     "metadata": {
      "needs_background": "light"
     },
     "output_type": "display_data"
    }
   ],
   "source": [
    "country_one_code = country_code_dict[semi_final_winners[0].strip()]\n",
    "country_two_code = country_code_dict[semi_final_winners[1].strip()]\n",
    "country_one_point, country_two_point = predict_points(country_one_code, country_two_code)\n",
    "if country_one_point > country_two_point: print(semi_final_winners[0], \"wins the world cup!\")\n",
    "else: print(semi_final_winners[1], \"wins the world cup!\")\n"
   ]
  }
 ],
 "metadata": {
  "kernelspec": {
   "display_name": "Python 3.10.4 64-bit",
   "language": "python",
   "name": "python3"
  },
  "language_info": {
   "codemirror_mode": {
    "name": "ipython",
    "version": 3
   },
   "file_extension": ".py",
   "mimetype": "text/x-python",
   "name": "python",
   "nbconvert_exporter": "python",
   "pygments_lexer": "ipython3",
   "version": "3.10.4"
  },
  "orig_nbformat": 4,
  "vscode": {
   "interpreter": {
    "hash": "369f2c481f4da34e4445cda3fffd2e751bd1c4d706f27375911949ba6bb62e1c"
   }
  }
 },
 "nbformat": 4,
 "nbformat_minor": 2
}
