{
 "cells": [
  {
   "cell_type": "code",
   "execution_count": 152,
   "metadata": {},
   "outputs": [],
   "source": [
    "import sys\n",
    "import os\n",
    "import pandas as pd\n",
    "import csv\n",
    "import requests\n",
    "import random as rd\n",
    "import collections; collections.Callable = collections.abc.Callable\n",
    "from scipy.stats import poisson\n",
    "from bs4 import BeautifulSoup"
   ]
  },
  {
   "cell_type": "code",
   "execution_count": 153,
   "metadata": {},
   "outputs": [],
   "source": [
    "#==============================================================================\n",
    "# Gets FIFA country code and country name from Wikipedia\n",
    "#==============================================================================\n",
    "def get_country_code():\n",
    "    content = requests.get('https://en.wikipedia.org/wiki/List_of_FIFA_country_codes').text\n",
    "    parse = BeautifulSoup(content, 'lxml')\n",
    "    tables = parse.find_all('table', class_='wikitable')[:4]\n",
    "    country_code = []\n",
    "    country_name = []\n",
    "    for table in tables:\n",
    "        for row in table.find_all('tr'):\n",
    "            if row.find('td') is not None:\n",
    "                country_name.append(row.find_all('td')[0].get_text().strip())\n",
    "                country_code.append(row.find_all('td')[1].get_text().strip())\n",
    "    country_code_dict = dict(zip(country_name, country_code))\n",
    "    return country_code_dict\n",
    "\n",
    "country_code_dict = get_country_code()"
   ]
  },
  {
   "cell_type": "code",
   "execution_count": 154,
   "metadata": {},
   "outputs": [],
   "source": [
    "#==============================================================================\n",
    "# Gets FIFA 2022 World Cup Fixtures from Wikipedia\n",
    "#==============================================================================\n",
    "def get_cup_fixtures(year):\n",
    "    content = requests.get(f'https://en.wikipedia.org/wiki/{year}_FIFA_World_Cup').text\n",
    "    parse = BeautifulSoup(content, 'lxml')\n",
    "    fixtures = parse.find_all('div', class_='footballbox')\n",
    "\n",
    "    home = []\n",
    "    away = []\n",
    "\n",
    "    for match in fixtures:\n",
    "        home.append(match.find('th', class_='fhome').get_text())\n",
    "        away.append(match.find('th', class_='faway').get_text())\n",
    "\n",
    "    match = {'home': home, 'away': away}\n",
    "    fixes = pd.DataFrame(match)\n",
    "    fixes['year'] = year\n",
    "    return fixes\n",
    "  \n",
    "fixtures_frame = get_cup_fixtures(2022)\n",
    "fixtures_frame.to_csv('./fixtures/fifa_worldcup_fixtures.csv', mode='w', index=False)"
   ]
  },
  {
   "cell_type": "code",
   "execution_count": 155,
   "metadata": {},
   "outputs": [],
   "source": [
    "#==============================================================================\n",
    "# Cleans up match data, keeping only teams and goals scored based on where\n",
    "# to split csv file\n",
    "# Adds missing matches if necessary to world cup file\n",
    "#==============================================================================\n",
    "def clean_matches(file, splits: list()):\n",
    "    clean = []\n",
    "    with open(file, encoding='utf-8') as f:\n",
    "        reader = csv.reader(f)\n",
    "        for line in reader:\n",
    "            try:\n",
    "                date = line[splits[0]].split('-')[0]\n",
    "                home_team = line[splits[1]]\n",
    "                away_team = line[splits[2]]\n",
    "                home_score = line[splits[3]]\n",
    "                away_score = line[splits[4]]\n",
    "                home_code = country_code_dict[home_team]\n",
    "                away_code = country_code_dict[away_team]\n",
    "                if int(date) < 1998: continue\n",
    "                clean.append([date, home_team, home_score, away_team, away_score, home_code, away_code])\n",
    "            except: pass\n",
    "    \n",
    "    with open(\"./clean/\"+\"clean_\"+file.split('/')[-1], 'w', newline='') as f:\n",
    "        writer = csv.writer(f)\n",
    "        head = ['Date', 'Home_Team', 'Home Team Goals', 'Away_Team', 'Away Team Goals', 'Home Team Initials', 'Away Team Initials']\n",
    "        writer.writerow(head)\n",
    "        writer.writerows(clean)\n",
    "\n",
    "def add_matches(fn):\n",
    "    f2018 = open('./data/WorldCupMatches2018.csv', 'r')\n",
    "    f98 = open('./clean/clean_{}'.format(fn), 'a', newline='')\n",
    "\n",
    "    f2018reader = csv.reader(f2018)\n",
    "    f98writer = csv.writer(f98)\n",
    "    next(f2018reader)\n",
    "    for row in f2018reader:\n",
    "        home = row[0] \n",
    "        away = row[1]\n",
    "        date = row[2]\n",
    "        home_score = row[3]\n",
    "        away_score = row[4]\n",
    "        home_code = country_code_dict[home]\n",
    "        away_code = country_code_dict[away]\n",
    "        f98writer.writerow([date, home, home_score, away, away_score, home_code, away_code])\n",
    "\n",
    "    f2018.close()\n",
    "    f98.close()\n",
    "    "
   ]
  },
  {
   "cell_type": "code",
   "execution_count": 156,
   "metadata": {},
   "outputs": [],
   "source": [
    "#==============================================================================\n",
    "# Uses huge data set with every single international match since 1993\n",
    "#==============================================================================\n",
    "clean_matches('./data/EveryInternationalMatch.csv', [0, 1, 2, 9, 10])"
   ]
  },
  {
   "cell_type": "code",
   "execution_count": 157,
   "metadata": {},
   "outputs": [],
   "source": [
    "#==============================================================================\n",
    "# Using a smaller dataset with only world cup matches since 1930\n",
    "#==============================================================================\n",
    "#clean_matches('./data/WorldCupMatches.csv', [0, 5, 8, 6, 7, -2, -1])\n",
    "clean_matches('./data/WorldCupMatches98.csv', [0, 5, 8, 6, 7, -2, -1])\n",
    "add_matches('WorldCupMatches98.csv')\n"
   ]
  },
  {
   "cell_type": "code",
   "execution_count": 158,
   "metadata": {},
   "outputs": [],
   "source": [
    "#==============================================================================\n",
    "# using smaller dataset to calculate goal ratios for poisson distribution\n",
    "#==============================================================================\n",
    "\n",
    "def get_goal_ratio(file, enc='utf-8'):\n",
    "    match_data = pd.read_csv(file, encoding=enc)\n",
    "    home_games = match_data[['Home Team Initials', 'Home Team Goals', 'Away Team Goals']]\n",
    "    away_games = match_data[['Away Team Initials', 'Home Team Goals', 'Away Team Goals']]\n",
    "    home_games = home_games.rename(columns={'Home Team Initials':'Team Initials', 'Home Team Goals': 'GoalsScored', 'Away Team Goals': 'GoalsConceded'})\n",
    "    away_games = away_games.rename(columns={'Away Team Initials':'Team Initials', 'Home Team Goals': 'GoalsConceded', 'Away Team Goals': 'GoalsScored'})\n",
    "    all_games = pd.concat([home_games, away_games], ignore_index=True).groupby(['Team Initials']).mean()\n",
    "    return all_games\n",
    "\n",
    "def combine_ratios():\n",
    "    only_world_cup_goal_ratio = get_goal_ratio('./clean/clean_WorldCupMatches98.csv')\n",
    "    international_goal_ratio = get_goal_ratio('./clean/clean_EveryInternationalMatch.csv', enc='ISO-8859-1')\n",
    "\n",
    "    new_goal_ratio_dataframe = pd.DataFrame(columns=['Team Initials', 'GoalsScored', 'GoalsConceded'])\n",
    "    new_goal_ratio_dataframe.set_index('Team Initials')\n",
    "\n",
    "    for team_initial in international_goal_ratio.index:\n",
    "\n",
    "        tgs = (international_goal_ratio.loc[team_initial, 'GoalsScored'])\n",
    "        tgc = (international_goal_ratio.loc[team_initial, 'GoalsConceded'])\n",
    "        owcgc = owcgs = 0\n",
    "        try: \n",
    "            owcgs = (only_world_cup_goal_ratio.loc[team_initial, 'GoalsScored'])\n",
    "            owcgc =(only_world_cup_goal_ratio.loc[team_initial, 'GoalsConceded'])\n",
    "        except: \n",
    "            new_goal_ratio_dataframe = pd.concat([new_goal_ratio_dataframe, pd.DataFrame([[team_initial, tgs, tgc]], columns=['Team Initials', 'GoalsScored', 'GoalsConceded'])], ignore_index=True)\n",
    "            continue\n",
    "        \n",
    "        new_goals_scored_ratio = (tgs * 1.9) + (owcgs * 1.1)\n",
    "        new_goals_conceded_ratio = (tgc * .8) + (owcgc * .2)\n",
    "\n",
    "        new_goal_ratio_dataframe = pd.concat([new_goal_ratio_dataframe, pd.DataFrame([[team_initial, new_goals_scored_ratio, new_goals_conceded_ratio]], columns=['Team Initials', 'GoalsScored', 'GoalsConceded'])], ignore_index=True)\n",
    "\n",
    "        \n",
    "    new_goal_ratio_dataframe = new_goal_ratio_dataframe.set_index('Team Initials', drop=True)\n",
    "    return new_goal_ratio_dataframe\n",
    "\n",
    "team_goal_ratio = combine_ratios()\n"
   ]
  },
  {
   "cell_type": "code",
   "execution_count": 159,
   "metadata": {},
   "outputs": [],
   "source": [
    "#==============================================================================\n",
    "# poisson distribution\n",
    "# source 1: https://fse.studenttheses.ub.rug.nl/21917/1/bMATH_2020_BruinsmaR.pdf\n",
    "# source 2: https://towardsdatascience.com/predicting-the-fifa-world-cup-2022-with-a-simple-model-using-python-6b34bdd4f2a5\n",
    "# source 3: https://www.pinnacle.com/en/betting-articles/Soccer/inflating-or-deflating-the-chance-of-a-draw-in-soccer/CGE2JP2SDKV3A9R5\n",
    "#==============================================================================\n",
    "\n",
    "def predict_points(home, away):\n",
    "    if home in team_goal_ratio.index and away in team_goal_ratio.index:\n",
    "        lamb_home = team_goal_ratio.at[home,'GoalsScored'] * team_goal_ratio.at[away,'GoalsConceded']\n",
    "        lamb_away = team_goal_ratio.at[away,'GoalsScored'] * team_goal_ratio.at[home,'GoalsConceded']\n",
    "        prob_home, prob_away, prob_draw = 0, 0, 0\n",
    "        for x in range(0,22):\n",
    "            for y in range(0, 22):\n",
    "                p = poisson.pmf(x, lamb_home) * poisson.pmf(y, lamb_away)\n",
    "                if x == y:\n",
    "                    #upset calculation based on chance and how often the team scores more than the other\n",
    "                    #shifts odds ever so slightly\n",
    "                    home_goals_scored = team_goal_ratio.at[home,'GoalsScored']\n",
    "                    away_goals_scored = team_goal_ratio.at[away,'GoalsScored']\n",
    "                    max_of_two, min_of_two = max(home_goals_scored, away_goals_scored), min(home_goals_scored, away_goals_scored)\n",
    "                    is_home_min = home_goals_scored == min_of_two\n",
    "                    random_draw = rd.uniform(0, max_of_two)\n",
    "                    if is_home_min:\n",
    "                        if random_draw < min_of_two:\n",
    "                            prob_home += p / 2 * rd.uniform(.5, 1.5)\n",
    "                        else: \n",
    "                            prob_away += p / 2 * rd.uniform(.5, 1.5)\n",
    "                    else:\n",
    "                        if random_draw < min_of_two:\n",
    "                            prob_away += p / 2 * rd.uniform(.5, 1.5)\n",
    "                        else:\n",
    "                            prob_home += p / 2 * rd.uniform(.5, 1.5)\n",
    "                    prob_draw += p\n",
    "                elif x > y:\n",
    "                    prob_home += p\n",
    "                else:\n",
    "                   prob_away += p\n",
    "        \n",
    "        points_home = 3 * prob_home + prob_draw\n",
    "        points_away = 3 * prob_away + prob_draw\n",
    "        return (points_home, points_away)\n",
    "    else:\n",
    "        return (0, 0)"
   ]
  },
  {
   "cell_type": "code",
   "execution_count": 160,
   "metadata": {},
   "outputs": [
    {
     "name": "stdout",
     "output_type": "stream",
     "text": [
      "              home            away  year\n",
      "0           Qatar          Ecuador  2022\n",
      "1         Senegal      Netherlands  2022\n",
      "2           Qatar          Senegal  2022\n",
      "3     Netherlands          Ecuador  2022\n",
      "4         Ecuador          Senegal  2022\n",
      "5     Netherlands            Qatar  2022\n",
      "6         England             Iran  2022\n",
      "7   United States            Wales  2022\n",
      "8           Wales             Iran  2022\n",
      "9         England    United States  2022\n",
      "10          Wales          England  2022\n",
      "11           Iran    United States  2022\n",
      "12      Argentina     Saudi Arabia  2022\n",
      "13         Mexico           Poland  2022\n",
      "14         Poland     Saudi Arabia  2022\n",
      "15      Argentina           Mexico  2022\n",
      "16         Poland        Argentina  2022\n",
      "17   Saudi Arabia           Mexico  2022\n",
      "18        Denmark          Tunisia  2022\n",
      "19         France        Australia  2022\n",
      "20        Tunisia        Australia  2022\n",
      "21         France          Denmark  2022\n",
      "22      Australia          Denmark  2022\n",
      "23        Tunisia           France  2022\n",
      "24        Germany            Japan  2022\n",
      "25          Spain       Costa Rica  2022\n",
      "26          Japan       Costa Rica  2022\n",
      "27          Spain          Germany  2022\n",
      "28          Japan            Spain  2022\n",
      "29     Costa Rica          Germany  2022\n",
      "30        Morocco          Croatia  2022\n",
      "31        Belgium           Canada  2022\n",
      "32        Belgium          Morocco  2022\n",
      "33        Croatia           Canada  2022\n",
      "34        Croatia          Belgium  2022\n",
      "35         Canada          Morocco  2022\n",
      "36    Switzerland         Cameroon  2022\n",
      "37         Brazil           Serbia  2022\n",
      "38       Cameroon           Serbia  2022\n",
      "39         Brazil      Switzerland  2022\n",
      "40         Serbia      Switzerland  2022\n",
      "41       Cameroon           Brazil  2022\n",
      "42        Uruguay      South Korea  2022\n",
      "43       Portugal            Ghana  2022\n",
      "44    South Korea            Ghana  2022\n",
      "45       Portugal          Uruguay  2022\n",
      "46          Ghana          Uruguay  2022\n",
      "47    South Korea         Portugal  2022\n"
     ]
    }
   ],
   "source": [
    "fixtures = pd.read_csv('./fixtures/fifa_worldcup_fixtures.csv')\n",
    "fixtures = fixtures.iloc[0:]\n",
    "fixture_group_stage = fixtures[:48].copy()\n",
    "print(fixture_group_stage)"
   ]
  },
  {
   "cell_type": "code",
   "execution_count": 161,
   "metadata": {},
   "outputs": [
    {
     "name": "stdout",
     "output_type": "stream",
     "text": [
      "              home            away  year  home_point  away_point\n",
      "0           Qatar          Ecuador  2022    0.623164    2.418418\n",
      "1         Senegal      Netherlands  2022    0.985284    2.061474\n",
      "2           Qatar          Senegal  2022    0.321953    2.710921\n",
      "3     Netherlands          Ecuador  2022    2.654036    0.373041\n",
      "4         Ecuador          Senegal  2022    0.861650    2.182723\n",
      "5     Netherlands            Qatar  2022    2.899654    0.116644\n",
      "6         England             Iran  2022    0.000000    0.000000\n",
      "7   United States            Wales  2022    0.000000    0.000000\n",
      "8           Wales             Iran  2022    0.000000    0.000000\n",
      "9         England    United States  2022    0.000000    0.000000\n",
      "10          Wales          England  2022    0.072299    2.929614\n",
      "11           Iran    United States  2022    0.000000    0.000000\n",
      "12      Argentina     Saudi Arabia  2022    2.513978    0.507248\n",
      "13         Mexico           Poland  2022    2.064112    0.987468\n",
      "14         Poland     Saudi Arabia  2022    1.649353    1.393879\n",
      "15      Argentina           Mexico  2022    1.761178    1.287717\n",
      "16         Poland        Argentina  2022    0.712715    2.343670\n",
      "17   Saudi Arabia           Mexico  2022    0.779115    2.261066\n",
      "18        Denmark          Tunisia  2022    1.859087    1.235428\n",
      "19         France        Australia  2022    2.378438    0.669447\n",
      "20        Tunisia        Australia  2022    1.020985    2.037183\n",
      "21         France          Denmark  2022    2.273809    0.759332\n",
      "22      Australia          Denmark  2022    1.544586    1.487312\n",
      "23        Tunisia           France  2022    0.499087    2.537239\n",
      "24        Germany            Japan  2022    2.312703    0.727674\n",
      "25          Spain       Costa Rica  2022    2.813423    0.205560\n",
      "26          Japan       Costa Rica  2022    2.101170    0.984288\n",
      "27          Spain          Germany  2022    1.900953    1.158970\n",
      "28          Japan            Spain  2022    0.586291    2.462793\n",
      "29     Costa Rica          Germany  2022    0.258298    2.754905\n",
      "30        Morocco          Croatia  2022    1.619704    1.481331\n",
      "31        Belgium           Canada  2022    2.897671    0.107677\n",
      "32        Belgium          Morocco  2022    1.600408    1.468053\n",
      "33        Croatia           Canada  2022    2.879631    0.159285\n",
      "34        Croatia          Belgium  2022    1.519931    1.505072\n",
      "35         Canada          Morocco  2022    0.225004    2.819408\n",
      "36    Switzerland         Cameroon  2022    1.923937    1.108342\n",
      "37         Brazil           Serbia  2022    2.672947    0.364050\n",
      "38       Cameroon           Serbia  2022    1.421273    1.600791\n",
      "39         Brazil      Switzerland  2022    2.422298    0.620201\n",
      "40         Serbia      Switzerland  2022    1.263785    1.837533\n",
      "41       Cameroon           Brazil  2022    0.283861    2.746494\n",
      "42        Uruguay      South Korea  2022    0.000000    0.000000\n",
      "43       Portugal            Ghana  2022    2.247985    0.789865\n",
      "44    South Korea            Ghana  2022    0.000000    0.000000\n",
      "45       Portugal          Uruguay  2022    2.203030    0.852439\n",
      "46          Ghana          Uruguay  2022    1.523263    1.508203\n",
      "47    South Korea         Portugal  2022    0.000000    0.000000\n"
     ]
    }
   ],
   "source": [
    "#==============================================================================\n",
    "# group stage, 48 games, counted by 4 lines in the fixture_group_48\n",
    "# calculates points for each team in the group stage\n",
    "#==============================================================================\n",
    "for index, row in fixture_group_stage.iterrows():\n",
    "    home = row['home']\n",
    "    away = row['away']\n",
    "    home_code = country_code_dict[home.strip()]\n",
    "    away_code = country_code_dict[away.strip()]\n",
    "    home_point, away_point = predict_points(home_code, away_code)\n",
    "    fixture_group_stage.at[index, 'home_point'] = home_point\n",
    "    fixture_group_stage.at[index, 'away_point'] = away_point\n",
    "print(fixture_group_stage)\n",
    "fixture_group_stage.to_csv('./fixtures/fifa_worldcup_fixture_group_48.csv', index=False)\n"
   ]
  },
  {
   "cell_type": "code",
   "execution_count": 162,
   "metadata": {},
   "outputs": [],
   "source": [
    "#==============================================================================\n",
    "# gets the round of 16 teams from the group stage\n",
    "#==============================================================================\n",
    "\n",
    "fixture_group_stage = pd.read_csv('./fixtures/fifa_worldcup_fixture_group_48.csv')\n",
    "fixture_group_stage_48 = fixture_group_stage[0:]\n",
    "\n",
    "f = open('./fixtures/fifa_worldcup_fixture_group_48_top2.csv', 'w')\n",
    "header = pd.DataFrame(columns=['home', 'home_point'])\n",
    "header.to_csv('./fixtures/fifa_worldcup_fixture_group_48_top2.csv', index=False)\n",
    "for six in range(0, len(fixture_group_stage_48), 6):\n",
    "    group = fixture_group_stage_48[six:six+6]\n",
    "    for index, row in group.iterrows():\n",
    "        group.at[index, 'home'] = row['home'].strip()\n",
    "        group.at[index, 'away'] = row['away'].strip()\n",
    "    \n",
    "    home_games = group.groupby(['home'])['home_point'].sum()\n",
    "    away_games = group.groupby(['away'])['away_point'].sum()\n",
    "    group = home_games.add(away_games, fill_value=0)\n",
    "    group = group.sort_values(ascending=False)\n",
    "    group = group[:2]\n",
    "    group.to_csv('./fixtures/fifa_worldcup_fixture_group_48_top2.csv', mode='a', header=False)\n",
    "\n",
    "f.close()"
   ]
  },
  {
   "cell_type": "code",
   "execution_count": 163,
   "metadata": {},
   "outputs": [],
   "source": [
    "matches = [[\"a1\", \"b2\"], [\"c1\", \"d2\"], [\"e1\", \"f2\"], [\"g1\", \"h2\"], [\"b1\", \"a2\"], [\"d1\", \"c2\"], [\"f1\", \"e2\"], [\"h1\", \"g2\"]]\n",
    "match_aligment = {}"
   ]
  },
  {
   "cell_type": "code",
   "execution_count": 164,
   "metadata": {},
   "outputs": [],
   "source": [
    "#==============================================================================\n",
    "# create knockout stage matches based on group position - round of 16\n",
    "#==============================================================================\n",
    "\n",
    "fixture_group_stage_top2 = pd.read_csv('./fixtures/fifa_worldcup_fixture_group_48_top2.csv')\n",
    "alphabet = ['a', 'b', 'c', 'd', 'e', 'f', 'g', 'h']\n",
    "current_number = 1\n",
    "current_letter = 0\n",
    "for i in range(0, len(fixture_group_stage_top2)):\n",
    "    country = fixture_group_stage_top2.iloc[i, 0]\n",
    "    match_aligment[alphabet[current_letter]+str(current_number)] = country\n",
    "    if current_number == 1: current_number = 2\n",
    "    else: \n",
    "        current_number = 1\n",
    "        current_letter += 1"
   ]
  },
  {
   "cell_type": "code",
   "execution_count": 165,
   "metadata": {},
   "outputs": [],
   "source": [
    "#==============================================================================\n",
    "# SIDE EFFECT METHOD: adds winner to specified list to implement reusability\n",
    "#==============================================================================\n",
    "def winner(stored: list(), one, two):\n",
    "    country_one_code = country_code_dict[one.strip()]\n",
    "    country_two_code = country_code_dict[two.strip()]\n",
    "    country_one_points, country_two_points = predict_points(country_one_code, country_two_code)\n",
    "    if country_one_points > country_two_points: stored.append(one)\n",
    "    else: stored.append(two)"
   ]
  },
  {
   "cell_type": "code",
   "execution_count": 166,
   "metadata": {},
   "outputs": [
    {
     "name": "stdout",
     "output_type": "stream",
     "text": [
      "['Netherlands', 'Argentina', 'Spain', 'Brazil', 'England', 'France', 'Germany', 'Portugal']\n"
     ]
    }
   ],
   "source": [
    "#==============================================================================\n",
    "# calculate knockout stage winners, -> 8 winners\n",
    "#==============================================================================\n",
    "\n",
    "winners = []\n",
    "for match in matches:\n",
    "    country_one = match_aligment[match[0]]\n",
    "    country_two = match_aligment[match[1]]\n",
    "    winner(winners, country_one, country_two)\n",
    "print(winners)\n",
    "\n",
    "file = open('./fixtures/fifa_worldcup_fixture_knockout.csv', 'w')\n",
    "writer = csv.writer(file)\n",
    "writer.writerow(winners)\n",
    "file.close()"
   ]
  },
  {
   "cell_type": "code",
   "execution_count": 167,
   "metadata": {},
   "outputs": [
    {
     "name": "stdout",
     "output_type": "stream",
     "text": [
      "['Netherlands', 'Spain', 'France', 'Germany']\n"
     ]
    }
   ],
   "source": [
    "#==============================================================================\n",
    "# calculate semi final winners, -> 4 winners\n",
    "#==============================================================================\n",
    "\n",
    "knockout_fixtures = pd.read_csv('./fixtures/fifa_worldcup_fixture_knockout.csv')\n",
    "\n",
    "knockout_matches = [[1,2], [3,4], [5,6], [7,8]]\n",
    "knockout_winners = []\n",
    "\n",
    "for m in knockout_matches:\n",
    "    country_one = knockout_fixtures.columns[m[0]-1]\n",
    "    country_two = knockout_fixtures.columns[m[1]-1]\n",
    "    winner(knockout_winners, country_one, country_two)\n",
    "print(knockout_winners)"
   ]
  },
  {
   "cell_type": "code",
   "execution_count": 168,
   "metadata": {},
   "outputs": [
    {
     "name": "stdout",
     "output_type": "stream",
     "text": [
      "['Spain', 'France']\n"
     ]
    }
   ],
   "source": [
    "#==============================================================================\n",
    "# calculate semi final winners, -> 2 winners\n",
    "#==============================================================================\n",
    "\n",
    "semi_final_matches = [[1,2], [3,4]]\n",
    "semi_final_winners = []\n",
    "for m in semi_final_matches:\n",
    "    country_one = knockout_winners[m[0]-1]\n",
    "    country_two = knockout_winners[m[1]-1]\n",
    "    winner(semi_final_winners, country_one, country_two)\n",
    "print(semi_final_winners)"
   ]
  },
  {
   "cell_type": "code",
   "execution_count": 169,
   "metadata": {},
   "outputs": [
    {
     "name": "stdout",
     "output_type": "stream",
     "text": [
      "Spain wins the world cup!\n"
     ]
    }
   ],
   "source": [
    "country_one_code = country_code_dict[semi_final_winners[0].strip()]\n",
    "country_two_code = country_code_dict[semi_final_winners[1].strip()]\n",
    "country_one_point, country_two_point = predict_points(country_one_code, country_two_code)\n",
    "if country_one_point > country_two_point: print(semi_final_winners[0], \"wins the world cup!\")\n",
    "else: print(semi_final_winners[1], \"wins the world cup!\")\n"
   ]
  }
 ],
 "metadata": {
  "kernelspec": {
   "display_name": "Python 3.10.4 64-bit",
   "language": "python",
   "name": "python3"
  },
  "language_info": {
   "codemirror_mode": {
    "name": "ipython",
    "version": 3
   },
   "file_extension": ".py",
   "mimetype": "text/x-python",
   "name": "python",
   "nbconvert_exporter": "python",
   "pygments_lexer": "ipython3",
   "version": "3.10.4"
  },
  "orig_nbformat": 4,
  "vscode": {
   "interpreter": {
    "hash": "369f2c481f4da34e4445cda3fffd2e751bd1c4d706f27375911949ba6bb62e1c"
   }
  }
 },
 "nbformat": 4,
 "nbformat_minor": 2
}
